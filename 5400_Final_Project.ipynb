{
 "cells": [
  {
   "cell_type": "markdown",
   "metadata": {},
   "source": [
    "# <font color=\"green\">Mega Millions Data Analysis</font>\n",
    "### *Dane Mariott & Shelby Fullbright*"
   ]
  },
  {
   "cell_type": "code",
   "execution_count": 1,
   "metadata": {},
   "outputs": [],
   "source": [
    "%matplotlib inline"
   ]
  },
  {
   "cell_type": "markdown",
   "metadata": {},
   "source": [
    "###### Above, the percent character is employed to invoke \"jupyter magic\" which will display matplotlib visuals directly in our notebook. \n",
    "\n",
    "###### Here we're importing the necessary modules/libraries to perform our analysis and configure visualizations."
   ]
  },
  {
   "cell_type": "code",
   "execution_count": 2,
   "metadata": {},
   "outputs": [],
   "source": [
    "import matplotlib.pyplot as plt\n",
    "import numpy as np\n",
    "import pandas as pd"
   ]
  },
  {
   "cell_type": "markdown",
   "metadata": {},
   "source": [
    "###### Here pandas will connect to the API and read its .json format into a dataframe to be further manipulated in our notebook."
   ]
  },
  {
   "cell_type": "code",
   "execution_count": 3,
   "metadata": {},
   "outputs": [],
   "source": [
    "# Import dataframe from API\n",
    "df = pd.read_json('http://127.0.0.1:5000/api/v1/test_table')"
   ]
  },
  {
   "cell_type": "markdown",
   "metadata": {},
   "source": [
    "###### This cell checks that our whole dataset has been imported, which was 949 rows and 42 columns at last persistence to database."
   ]
  },
  {
   "cell_type": "code",
   "execution_count": 4,
   "metadata": {},
   "outputs": [
    {
     "data": {
      "text/plain": [
       "(949, 42)"
      ]
     },
     "execution_count": 4,
     "metadata": {},
     "output_type": "execute_result"
    }
   ],
   "source": [
    "# Ensure proper row and column count\n",
    "df.shape"
   ]
  },
  {
   "cell_type": "markdown",
   "metadata": {},
   "source": [
    "###### This cell prints the top 5 rows of our dataset for visual inspection to be sure the dataframe rendered accurately."
   ]
  },
  {
   "cell_type": "code",
   "execution_count": 5,
   "metadata": {},
   "outputs": [
    {
     "data": {
      "text/html": [
       "<div>\n",
       "<style scoped>\n",
       "    .dataframe tbody tr th:only-of-type {\n",
       "        vertical-align: middle;\n",
       "    }\n",
       "\n",
       "    .dataframe tbody tr th {\n",
       "        vertical-align: top;\n",
       "    }\n",
       "\n",
       "    .dataframe thead th {\n",
       "        text-align: right;\n",
       "    }\n",
       "</style>\n",
       "<table border=\"1\" class=\"dataframe\">\n",
       "  <thead>\n",
       "    <tr style=\"text-align: right;\">\n",
       "      <th></th>\n",
       "      <th>Draw date</th>\n",
       "      <th>Jackpot</th>\n",
       "      <th>Jackpot CO Winners</th>\n",
       "      <th>Jackpot Cash Value</th>\n",
       "      <th>Jackpot Winners</th>\n",
       "      <th>Last Day To Claim</th>\n",
       "      <th>Match 0 + Megaball CO Winners</th>\n",
       "      <th>Match 0 + Megaball CO Winners (with Megaplier)</th>\n",
       "      <th>Match 0 + Megaball Prize</th>\n",
       "      <th>Match 0 + Megaball Prize (with Megaplier)</th>\n",
       "      <th>...</th>\n",
       "      <th>Match 4 Prize</th>\n",
       "      <th>Match 4 Prize (with Megaplier)</th>\n",
       "      <th>Match 5 CO Winners</th>\n",
       "      <th>Match 5 CO Winners (with Megaplier)</th>\n",
       "      <th>Match 5 Prize</th>\n",
       "      <th>Match 5 Prize (with Megaplier)</th>\n",
       "      <th>Megaball</th>\n",
       "      <th>Megaplier</th>\n",
       "      <th>Winning Numbers</th>\n",
       "      <th>index</th>\n",
       "    </tr>\n",
       "  </thead>\n",
       "  <tbody>\n",
       "    <tr>\n",
       "      <th>0</th>\n",
       "      <td>June 18, 2019 ?</td>\n",
       "      <td>$50,000,000</td>\n",
       "      <td>0.0</td>\n",
       "      <td>$32,700,000</td>\n",
       "      <td>0.0</td>\n",
       "      <td>Dec. 15, 2019</td>\n",
       "      <td>1429.0</td>\n",
       "      <td>1390.0</td>\n",
       "      <td>$2</td>\n",
       "      <td>$4</td>\n",
       "      <td>...</td>\n",
       "      <td>$500</td>\n",
       "      <td>$1,000</td>\n",
       "      <td>0.0</td>\n",
       "      <td>0.0</td>\n",
       "      <td>$1,000,000</td>\n",
       "      <td>$2,000,000</td>\n",
       "      <td>21</td>\n",
       "      <td>2</td>\n",
       "      <td>12 - 14 - 22 - 24 - 48</td>\n",
       "      <td>0</td>\n",
       "    </tr>\n",
       "    <tr>\n",
       "      <th>1</th>\n",
       "      <td>June 14, 2019 ?</td>\n",
       "      <td>$45,000,000</td>\n",
       "      <td>0.0</td>\n",
       "      <td>$29,200,000</td>\n",
       "      <td>0.0</td>\n",
       "      <td>Dec. 11, 2019</td>\n",
       "      <td>1588.0</td>\n",
       "      <td>1394.0</td>\n",
       "      <td>$2</td>\n",
       "      <td>$4</td>\n",
       "      <td>...</td>\n",
       "      <td>$500</td>\n",
       "      <td>$1,000</td>\n",
       "      <td>0.0</td>\n",
       "      <td>0.0</td>\n",
       "      <td>$1,000,000</td>\n",
       "      <td>$2,000,000</td>\n",
       "      <td>6</td>\n",
       "      <td>2</td>\n",
       "      <td>19 - 40 - 47 - 57 - 65</td>\n",
       "      <td>1</td>\n",
       "    </tr>\n",
       "    <tr>\n",
       "      <th>2</th>\n",
       "      <td>June 11, 2019 ?</td>\n",
       "      <td>$40,000,000</td>\n",
       "      <td>0.0</td>\n",
       "      <td>$25,800,000</td>\n",
       "      <td>0.0</td>\n",
       "      <td>Dec. 8, 2019</td>\n",
       "      <td>1971.0</td>\n",
       "      <td>1810.0</td>\n",
       "      <td>$2</td>\n",
       "      <td>$6</td>\n",
       "      <td>...</td>\n",
       "      <td>$500</td>\n",
       "      <td>$1,500</td>\n",
       "      <td>0.0</td>\n",
       "      <td>0.0</td>\n",
       "      <td>$1,000,000</td>\n",
       "      <td>$3,000,000</td>\n",
       "      <td>13</td>\n",
       "      <td>3</td>\n",
       "      <td>20 - 34 - 39 - 43 - 57</td>\n",
       "      <td>2</td>\n",
       "    </tr>\n",
       "    <tr>\n",
       "      <th>3</th>\n",
       "      <td>June 7, 2019 ?</td>\n",
       "      <td>$530,000,000</td>\n",
       "      <td>0.0</td>\n",
       "      <td>$345,200,000</td>\n",
       "      <td>1.0</td>\n",
       "      <td>Dec. 4, 2019</td>\n",
       "      <td>7539.0</td>\n",
       "      <td>4812.0</td>\n",
       "      <td>$2</td>\n",
       "      <td>$6</td>\n",
       "      <td>...</td>\n",
       "      <td>$500</td>\n",
       "      <td>$1,500</td>\n",
       "      <td>0.0</td>\n",
       "      <td>0.0</td>\n",
       "      <td>$1,000,000</td>\n",
       "      <td>$3,000,000</td>\n",
       "      <td>2</td>\n",
       "      <td>3</td>\n",
       "      <td>17 - 19 - 27 - 40 - 68</td>\n",
       "      <td>3</td>\n",
       "    </tr>\n",
       "    <tr>\n",
       "      <th>4</th>\n",
       "      <td>June 4, 2019 ?</td>\n",
       "      <td>$475,000,000</td>\n",
       "      <td>0.0</td>\n",
       "      <td>$308,200,000</td>\n",
       "      <td>0.0</td>\n",
       "      <td>Dec. 1, 2019</td>\n",
       "      <td>6938.0</td>\n",
       "      <td>4552.0</td>\n",
       "      <td>$2</td>\n",
       "      <td>$4</td>\n",
       "      <td>...</td>\n",
       "      <td>$500</td>\n",
       "      <td>$1,000</td>\n",
       "      <td>0.0</td>\n",
       "      <td>1.0</td>\n",
       "      <td>$1,000,000</td>\n",
       "      <td>$2,000,000</td>\n",
       "      <td>25</td>\n",
       "      <td>2</td>\n",
       "      <td>25 - 37 - 46 - 48 - 68</td>\n",
       "      <td>4</td>\n",
       "    </tr>\n",
       "  </tbody>\n",
       "</table>\n",
       "<p>5 rows × 42 columns</p>\n",
       "</div>"
      ],
      "text/plain": [
       "         Draw date       Jackpot  Jackpot CO Winners Jackpot Cash Value  \\\n",
       "0  June 18, 2019 ?   $50,000,000                 0.0        $32,700,000   \n",
       "1  June 14, 2019 ?   $45,000,000                 0.0        $29,200,000   \n",
       "2  June 11, 2019 ?   $40,000,000                 0.0        $25,800,000   \n",
       "3   June 7, 2019 ?  $530,000,000                 0.0       $345,200,000   \n",
       "4   June 4, 2019 ?  $475,000,000                 0.0       $308,200,000   \n",
       "\n",
       "   Jackpot Winners Last Day To Claim  Match 0 + Megaball CO Winners  \\\n",
       "0              0.0     Dec. 15, 2019                         1429.0   \n",
       "1              0.0     Dec. 11, 2019                         1588.0   \n",
       "2              0.0      Dec. 8, 2019                         1971.0   \n",
       "3              1.0      Dec. 4, 2019                         7539.0   \n",
       "4              0.0      Dec. 1, 2019                         6938.0   \n",
       "\n",
       "   Match 0 + Megaball CO Winners (with Megaplier) Match 0 + Megaball Prize  \\\n",
       "0                                          1390.0                       $2   \n",
       "1                                          1394.0                       $2   \n",
       "2                                          1810.0                       $2   \n",
       "3                                          4812.0                       $2   \n",
       "4                                          4552.0                       $2   \n",
       "\n",
       "  Match 0 + Megaball Prize (with Megaplier)  ...  Match 4 Prize  \\\n",
       "0                                        $4  ...           $500   \n",
       "1                                        $4  ...           $500   \n",
       "2                                        $6  ...           $500   \n",
       "3                                        $6  ...           $500   \n",
       "4                                        $4  ...           $500   \n",
       "\n",
       "   Match 4 Prize (with Megaplier) Match 5 CO Winners  \\\n",
       "0                          $1,000                0.0   \n",
       "1                          $1,000                0.0   \n",
       "2                          $1,500                0.0   \n",
       "3                          $1,500                0.0   \n",
       "4                          $1,000                0.0   \n",
       "\n",
       "  Match 5 CO Winners (with Megaplier)  Match 5 Prize  \\\n",
       "0                                 0.0     $1,000,000   \n",
       "1                                 0.0     $1,000,000   \n",
       "2                                 0.0     $1,000,000   \n",
       "3                                 0.0     $1,000,000   \n",
       "4                                 1.0     $1,000,000   \n",
       "\n",
       "   Match 5 Prize (with Megaplier) Megaball Megaplier         Winning Numbers  \\\n",
       "0                      $2,000,000       21         2  12 - 14 - 22 - 24 - 48   \n",
       "1                      $2,000,000        6         2  19 - 40 - 47 - 57 - 65   \n",
       "2                      $3,000,000       13         3  20 - 34 - 39 - 43 - 57   \n",
       "3                      $3,000,000        2         3  17 - 19 - 27 - 40 - 68   \n",
       "4                      $2,000,000       25         2  25 - 37 - 46 - 48 - 68   \n",
       "\n",
       "   index  \n",
       "0      0  \n",
       "1      1  \n",
       "2      2  \n",
       "3      3  \n",
       "4      4  \n",
       "\n",
       "[5 rows x 42 columns]"
      ]
     },
     "execution_count": 5,
     "metadata": {},
     "output_type": "execute_result"
    }
   ],
   "source": [
    "# Print first 5 rows for visual inspection of data\n",
    "df.head()"
   ]
  },
  {
   "cell_type": "markdown",
   "metadata": {},
   "source": [
    "###### The first thing here is to separate the \"Jackpot Winners\" column into two singular instances of winning and losing because while losing is simply \"0\" winners, winning could be \"1, 2, 3, etc.\" winners. Turning the \"Jackpot Winners\" column into a boolean expression stops the chart from displaying every possible instance \"winners\" and \"losers\" per month. The second issue is that we needed to strip \"Draw date\" to month alone or every cell would render as an individual value and we would never find the frequency of \"wins by month\". Lastly, we stacked \"losses\" and \"wins\" as true/false singular columns so that the reader could see the highest loss in months as well as wins. "
   ]
  },
  {
   "cell_type": "code",
   "execution_count": 6,
   "metadata": {},
   "outputs": [
    {
     "data": {
      "text/plain": [
       "Text(0, 0.5, 'Losses/Wins')"
      ]
     },
     "execution_count": 6,
     "metadata": {},
     "output_type": "execute_result"
    },
    {
     "data": {
      "image/png": "[encoded data removed]",
      "text/plain": [
       "<Figure size 720x360 with 1 Axes>"
      ]
     },
     "metadata": {
      "needs_background": "light"
     },
     "output_type": "display_data"
    }
   ],
   "source": [
    "# Munge data to analyze specific properties of our data's vatiables\n",
    "df['Jackpot Winners'] = df['Jackpot Winners'] > 0\n",
    "df['Draw date'] = df['Draw date'].replace('[0-9,?' ']', '', regex=True)\n",
    "count = df.groupby(['Draw date', 'Jackpot Winners']).size()\n",
    "# Display the most frequent wins and losses aggregated by month throughout history of game\n",
    "plt.rcParams['figure.figsize'] = [10, 5]\n",
    "count.unstack().plot(kind='bar', stacked=True)\n",
    "plt.title('Frequency of Wins by Month (May2010-Present)')\n",
    "plt.xlabel('Months')\n",
    "plt.ylabel('Losses/Wins')"
   ]
  },
  {
   "cell_type": "markdown",
   "metadata": {},
   "source": [
    "###### Pandas formats the \"Megaball\" column as a \"series\" and assigns default values of float or object. The dataframe default then renders the cell values as \"NaN\" (not a number) which had to be fixed by force casting them to integer. Once the data could be read as a number, we employed a pandas value count to find the frequency of occurence for drawn Megaball numbers. The Megaball numbers are then plotted by frequency of occurence in descending order so that the reader can easily see which numbers are most likely to be drawn."
   ]
  },
  {
   "cell_type": "code",
   "execution_count": 7,
   "metadata": {
    "scrolled": true
   },
   "outputs": [
    {
     "data": {
      "text/plain": [
       "Text(0, 0.5, 'Frequency')"
      ]
     },
     "execution_count": 7,
     "metadata": {},
     "output_type": "execute_result"
    },
    {
     "data": {
      "image/png": "[encoded data removed]",
      "text/plain": [
       "<Figure size 720x288 with 1 Axes>"
      ]
     },
     "metadata": {
      "needs_background": "light"
     },
     "output_type": "display_data"
    }
   ],
   "source": [
    "# Munge data to analyze specific properties of our data's vatiables\n",
    "df['Megaball'] = pd.to_numeric(df['Megaball'], errors='coerce')\n",
    "count2 = df['Megaball'].value_counts(ascending=False)\n",
    "# Display the most frequently drawn Megaball numbers throughout history of game\n",
    "plt.rcParams['figure.figsize'] = [10, 4]\n",
    "count2.plot(kind='bar')\n",
    "plt.title('Frequency of Megaball Draws by Number (May2010-Present)')\n",
    "plt.xlabel('Numbers')\n",
    "plt.ylabel('Frequency')"
   ]
  },
  {
   "cell_type": "code",
   "execution_count": null,
   "metadata": {},
   "outputs": [],
   "source": []
  }
 ],
 "metadata": {
  "kernelspec": {
   "display_name": "Python 3",
   "language": "python",
   "name": "python3"
  },
  "language_info": {
   "codemirror_mode": {
    "name": "ipython",
    "version": 3
   },
   "file_extension": ".py",
   "mimetype": "text/x-python",
   "name": "python",
   "nbconvert_exporter": "python",
   "pygments_lexer": "ipython3",
   "version": "3.7.3"
  }
 },
 "nbformat": 4,
 "nbformat_minor": 2
}
